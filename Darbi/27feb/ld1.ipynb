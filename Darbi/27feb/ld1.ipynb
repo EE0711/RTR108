{
 "cells": [
  {
   "cell_type": "markdown",
   "metadata": {},
   "source": [
    "# 1. labora(teilora rindas) atskaite"
   ]
  },
  {
   "cell_type": "markdown",
   "metadata": {},
   "source": [
    "Sheit es aprakstishu Teilora rindu buutiibu\n",
    "2. paragraafs\n",
    "3. utt"
   ]
  },
  {
   "cell_type": "code",
   "execution_count": 1,
   "metadata": {},
   "outputs": [
    {
     "name": "stdout",
     "output_type": "stream",
     "text": [
      "10\n"
     ]
    }
   ],
   "source": [
    "a = 10\n",
    "print(a)\n"
   ]
  },
  {
   "cell_type": "code",
   "execution_count": 3,
   "metadata": {},
   "outputs": [
    {
     "name": "stdout",
     "output_type": "stream",
     "text": [
      "{'__name__': '__main__', '__doc__': 'Automatically created module for IPython interactive environment', '__package__': None, '__loader__': None, '__spec__': None, '__builtin__': <module 'builtins' (built-in)>, '__builtins__': <module 'builtins' (built-in)>, '_ih': ['', 'a = 10\\nprint(a)', 'print vars()', 'print(vars())'], '_oh': {}, '_dh': ['/home/user/RTR108/Darbi/27feb'], 'In': ['', 'a = 10\\nprint(a)', 'print vars()', 'print(vars())'], 'Out': {}, 'get_ipython': <bound method InteractiveShell.get_ipython of <ipykernel.zmqshell.ZMQInteractiveShell object at 0x7f21240df470>>, 'exit': <IPython.core.autocall.ZMQExitAutocall object at 0x7f21210299e8>, 'quit': <IPython.core.autocall.ZMQExitAutocall object at 0x7f21210299e8>, '_': '', '__': '', '___': '', '_i': 'print vars()', '_ii': 'a = 10\\nprint(a)', '_iii': '', '_i1': 'a = 10\\nprint(a)', 'a': 10, '_i2': 'print vars()', '_i3': 'print(vars())'}\n"
     ]
    }
   ],
   "source": [
    "print(vars())\n"
   ]
  },
  {
   "cell_type": "code",
   "execution_count": null,
   "metadata": {},
   "outputs": [],
   "source": []
  }
 ],
 "metadata": {
  "kernelspec": {
   "display_name": "Python 3",
   "language": "python",
   "name": "python3"
  },
  "language_info": {
   "codemirror_mode": {
    "name": "ipython",
    "version": 3
   },
   "file_extension": ".py",
   "mimetype": "text/x-python",
   "name": "python",
   "nbconvert_exporter": "python",
   "pygments_lexer": "ipython3",
   "version": "3.6.4"
  }
 },
 "nbformat": 4,
 "nbformat_minor": 2
}
